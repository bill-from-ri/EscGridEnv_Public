{
 "cells": [
  {
   "cell_type": "markdown",
   "metadata": {},
   "source": [
    "# April 22, 2025\n",
    "A file for rendering gifs of action sequences"
   ]
  },
  {
   "cell_type": "code",
   "execution_count": 1,
   "metadata": {},
   "outputs": [
    {
     "name": "stdout",
     "output_type": "stream",
     "text": [
      "pygame 2.5.2 (SDL 2.28.3, Python 3.12.2)\n",
      "Hello from the pygame community. https://www.pygame.org/contribute.html\n"
     ]
    }
   ],
   "source": [
    "from EscGridEnv import EscGridEnv\n",
    "from levels import (\n",
    "    lvl_1, lvl_2, lvl_3, lvl_4, lvl_5, lvl_6, lvl_7, lvl_8,\n",
    "    lvl_9, lvl_10, lvl_11, lvl_12, lvl_13a, lvl_13b\n",
    ")\n",
    "from minigrid.wrappers import ImgObsWrapper, FullyObsWrapper\n",
    "import matplotlib.pyplot as plt\n",
    "from matplotlib.animation import FuncAnimation\n",
    "\n",
    "from json import load\n",
    "from tqdm import tqdm"
   ]
  },
  {
   "cell_type": "code",
   "execution_count": 3,
   "metadata": {},
   "outputs": [],
   "source": [
    "LEVELS = {\n",
    "    'lvl_1'  : lvl_1(),\n",
    "    'lvl_2'  : lvl_2(),\n",
    "    'lvl_3'  : lvl_3(),\n",
    "    'lvl_4'  : lvl_4(),\n",
    "    'lvl_5'  : lvl_5(),\n",
    "    'lvl_6'  : lvl_6(),\n",
    "    'lvl_7'  : lvl_7(),\n",
    "    'lvl_8'  : lvl_8(),\n",
    "    'lvl_9'  : lvl_9(),\n",
    "    'lvl_10'  : lvl_10(),\n",
    "    'lvl_11' : lvl_11(),\n",
    "    'lvl_12' : lvl_12(),\n",
    "    'lvl_13a'  : lvl_13a(),\n",
    "    'lvl_13b'  : lvl_13b()\n",
    "}"
   ]
  },
  {
   "cell_type": "code",
   "execution_count": 4,
   "metadata": {},
   "outputs": [],
   "source": [
    "# Initialize visualization environment.\n",
    "vis_env = EscGridEnv(\n",
    "    grid_layout=lvl_1(),\n",
    "    highlight=False         # Highlights agent's viewbox.\n",
    ")\n",
    "vis_env = FullyObsWrapper(vis_env)\n",
    "vis_env = ImgObsWrapper(vis_env)\n",
    "vis_env.unwrapped.render_mode = 'rgb_array'"
   ]
  },
  {
   "cell_type": "code",
   "execution_count": 9,
   "metadata": {},
   "outputs": [],
   "source": [
    "action_seq = [\n",
    "            2,\n",
    "            1,\n",
    "            2,\n",
    "            1,\n",
    "            2,\n",
    "            1,\n",
    "            2,\n",
    "            1,\n",
    "            2,\n",
    "            1,\n",
    "            2,\n",
    "            1,\n",
    "            2,\n",
    "            1,\n",
    "            2,\n",
    "            1,\n",
    "            2,\n",
    "            1,\n",
    "            2,\n",
    "            1,\n",
    "            2,\n",
    "            1,\n",
    "            2,\n",
    "            1,\n",
    "            2,\n",
    "            1,\n",
    "            2,\n",
    "            1,\n",
    "            2,\n",
    "            1,\n",
    "            2,\n",
    "            1,\n",
    "            2,\n",
    "            1,\n",
    "            2\n",
    "        ]"
   ]
  },
  {
   "cell_type": "code",
   "execution_count": 10,
   "metadata": {},
   "outputs": [],
   "source": [
    "# Prepare to run the model.\n",
    "obs, _     = vis_env.reset()\n",
    "done       = False\n",
    "truncated  = False\n",
    "state_imgs = []\n",
    "for i, action in enumerate(action_seq):\n",
    "\n",
    "    # Capturing state renderings.\n",
    "    state_imgs.append(vis_env.unwrapped.render())\n",
    "\n",
    "    obs, reward, done, truncated, _ = vis_env.step(action)\n",
    "    if done:\n",
    "        break\n",
    "\n",
    "# Capture final frame.\n",
    "state_imgs.append(vis_env.unwrapped.render())"
   ]
  },
  {
   "cell_type": "code",
   "execution_count": 11,
   "metadata": {},
   "outputs": [],
   "source": [
    "def save_gif(frames, filename, interval=50):\n",
    "    fig, ax = plt.subplots()\n",
    "    img = ax.imshow(frames[0])\n",
    "\n",
    "    def update(frame):\n",
    "        img.set_data(frame)\n",
    "        return [img]\n",
    "\n",
    "    ani = FuncAnimation(fig, update, frames=frames, interval=interval, blit=True)\n",
    "    plt.axis('off')\n",
    "\n",
    "    # Save as a GIF\n",
    "    ani.save(filename, writer='pillow')\n",
    "    plt.close(fig)  # Close the figure to avoid redundant plots"
   ]
  },
  {
   "cell_type": "code",
   "execution_count": 12,
   "metadata": {},
   "outputs": [],
   "source": [
    "# Call the function to save the animation\n",
    "save_gif(state_imgs, \"one.gif\")"
   ]
  },
  {
   "cell_type": "markdown",
   "metadata": {},
   "source": [
    "## Overlay\n",
    "\n",
    "My plan is to overlay paths to get an idea of what's going on at an aggregate level."
   ]
  },
  {
   "cell_type": "code",
   "execution_count": 3,
   "metadata": {},
   "outputs": [],
   "source": [
    "with open('rl_data/paths.json') as fp:\n",
    "    paths = load(fp)"
   ]
  },
  {
   "cell_type": "code",
   "execution_count": 4,
   "metadata": {},
   "outputs": [],
   "source": [
    "# Initialize visualization environment.\n",
    "vis_env = EscGridEnv(\n",
    "    grid_layout=lvl_5(),\n",
    "    highlight=False         # Highlights agent's viewbox.\n",
    ")\n",
    "vis_env = FullyObsWrapper(vis_env)\n",
    "vis_env = ImgObsWrapper(vis_env)\n",
    "vis_env.unwrapped.render_mode = 'rgb_array'"
   ]
  },
  {
   "cell_type": "code",
   "execution_count": 5,
   "metadata": {},
   "outputs": [],
   "source": [
    "def pad_list_to_50(input_list):\n",
    "  \"\"\"Appends zeros to a list until its length reaches 50.\n",
    "\n",
    "  Args:\n",
    "    input_list: The list to pad. It should have a length of 50 or less.\n",
    "\n",
    "  Returns:\n",
    "    The modified list with a length of 50.\n",
    "  \"\"\"\n",
    "  while len(input_list) < 50:\n",
    "    input_list.append(0)\n",
    "  return input_list"
   ]
  },
  {
   "cell_type": "code",
   "execution_count": null,
   "metadata": {},
   "outputs": [
    {
     "name": "stdout",
     "output_type": "stream",
     "text": [
      "[2, 2, 2, 0, 1, 0, 1, 2, 2, 2, 2, 2, 0, 1, 0, 1, 0, 1, 0, 1, 2, 0, 1, 0, 1, 0, 1, 0, 1, 0, 0, 1, 1, 0, 1, 0, 1, 0, 1, 0, 1, 0, 1, 0, 0, 1, 1, 0, 1, 0, 1, 0, 0, 1, 1, 0, 1, 2, 2, 2, 2, 2, 0, 0, 0, 0, 0, 0, 0, 0, 0, 0, 0, 0, 0, 0, 0, 0, 0, 0, 0, 0, 0, 0, 0, 0, 0, 0, 0, 0, 0, 0, 0, 0, 0, 0, 0, 0, 0, 0, 0, 0, 0, 0, 0, 0, 0, 0, 0, 0, 0, 0, 0, 0, 0, 0, 0, 0, 0, 0, 0, 0, 0, 0, 0, 0, 0, 0, 0, 0, 0, 0, 0, 0, 0, 0, 0, 0, 0, 0, 0, 0, 0, 0, 0, 0, 2, 2, 2, 2, 2, 2, 2, 2, 2, 2, 2, 2, 2, 2, 2, 2, 2, 2, 2, 2, 2, 2, 2, 2, 2, 2, 2, 2, 2, 2, 2, 2, 2, 2, 2, 2, 2, 2, 2, 2, 2, 2, 2, 2, 2, 0, 2, 1, 2, 1, 2, 1, 0, 2, 2, 0, 0, 2, 2, 0, 0, 1, 0, 1, 0, 2, 0, 0, 2, 0, 0, 2, 0, 0, 2, 0, 0, 2, 0, 0, 2, 0, 2, 2, 0, 0, 0, 0, 0, 0, 0, 0, 0, 0, 0, 0, 0, 0, 0, 0, 0, 0, 0, 2, 1, 2, 2, 1, 2, 1, 0, 1, 0, 1, 0, 1, 0, 1, 0, 2, 0, 0, 2, 0, 0, 1, 0, 1, 0, 1, 0, 1, 0, 1, 0, 1, 0, 1, 0, 1, 0, 1, 0, 1, 0, 1, 0, 1, 0, 1, 0, 1, 0, 1, 0, 1, 0, 1, 0, 1, 0, 1, 0, 2, 0, 0, 2, 0, 0, 1, 0, 0, 1, 2, 0, 0, 2, 0, 0, 1, 0, 1, 0, 1, 0, 2, 0, 0, 2, 0, 0, 1, 0, 1, 0, 1, 0, 1, 0, 0, 1, 2, 0, 0, 2, 0, 0, 1, 0, 1, 0, 1, 0, 1, 0, 1, 0, 1, 0, 1, 0, 1, 0, 1, 0, 2, 0, 0, 2, 0, 0, 2, 0, 0, 2, 0, 0, 2, 0, 0, 2, 0, 0, 1, 0, 1, 0, 1, 0, 1, 0, 1, 0, 1, 0, 1, 0, 2, 0, 0, 2, 0, 0, 1, 0, 1, 0, 2, 0, 0, 2, 0, 2, 2, 0, 0, 0, 0, 0, 0, 0, 0, 0, 0, 0, 0, 0, 0, 0, 0, 0, 0, 0, 0, 0, 0, 0, 0, 0, 0, 0, 0, 0, 0, 0, 0, 0, 0, 0, 0, 0, 0, 0, 0, 0, 0, 0, 0, 0, 0, 0, 0, 0, 0, 0, 0, 0, 2]\n"
     ]
    }
   ],
   "source": [
    "print(paths['lvl_5'][0])"
   ]
  },
  {
   "cell_type": "code",
   "execution_count": 9,
   "metadata": {},
   "outputs": [
    {
     "name": "stderr",
     "output_type": "stream",
     "text": [
      "100%|██████████| 50/50 [00:03<00:00, 15.51it/s]\n",
      "100%|██████████| 50/50 [00:03<00:00, 15.53it/s]\n",
      "100%|██████████| 50/50 [00:03<00:00, 15.58it/s]\n",
      "100%|██████████| 50/50 [00:03<00:00, 15.63it/s]\n",
      "100%|██████████| 50/50 [00:03<00:00, 14.16it/s]\n",
      "100%|██████████| 50/50 [00:03<00:00, 15.64it/s]\n",
      "100%|██████████| 50/50 [00:03<00:00, 15.25it/s]\n",
      "100%|██████████| 50/50 [00:03<00:00, 15.78it/s]\n",
      "100%|██████████| 50/50 [00:03<00:00, 15.66it/s]\n",
      "100%|██████████| 50/50 [00:03<00:00, 14.68it/s]\n",
      "100%|██████████| 50/50 [00:03<00:00, 15.64it/s]\n",
      "100%|██████████| 50/50 [00:03<00:00, 15.52it/s]\n",
      "100%|██████████| 50/50 [00:03<00:00, 15.48it/s]\n",
      "100%|██████████| 50/50 [00:03<00:00, 15.05it/s]\n",
      "100%|██████████| 50/50 [00:03<00:00, 15.56it/s]\n",
      "100%|██████████| 50/50 [00:03<00:00, 15.63it/s]\n"
     ]
    }
   ],
   "source": [
    "count = 0\n",
    "for j, p in enumerate(paths['lvl_5']):\n",
    "    # Prepare to run the model.\n",
    "    obs, _     = vis_env.reset()\n",
    "    done       = False\n",
    "    truncated  = False\n",
    "    state_imgs = []\n",
    "\n",
    "    p_extended = pad_list_to_50(p)\n",
    "\n",
    "    for i, action in enumerate(tqdm(p[:50])):\n",
    "\n",
    "        # Capturing state renderings.\n",
    "        state_imgs.append(vis_env.unwrapped.render())\n",
    "\n",
    "        obs, reward, done, truncated, _ = vis_env.step(action)\n",
    "        # if done:\n",
    "        #     break\n",
    "\n",
    "    # Capture final frame.\n",
    "    state_imgs.append(vis_env.unwrapped.render())\n",
    "\n",
    "    save_gif(state_imgs, f\"overlay_lvl5/layer_{j}.gif\")\n",
    "\n",
    "    count += 1\n",
    "    if count >= 16:\n",
    "        break"
   ]
  },
  {
   "cell_type": "code",
   "execution_count": 2,
   "metadata": {},
   "outputs": [],
   "source": [
    "# Initialize visualization environment.\n",
    "temp_env = EscGridEnv(\n",
    "    grid_layout=lvl_1(),\n",
    "    highlight=False         # Highlights agent's viewbox.\n",
    ")\n",
    "temp_env = FullyObsWrapper(temp_env)\n",
    "temp_env = ImgObsWrapper(temp_env)\n",
    "temp_env.unwrapped.render_mode = 'rgb_array'"
   ]
  },
  {
   "cell_type": "code",
   "execution_count": 12,
   "metadata": {},
   "outputs": [
    {
     "name": "stdout",
     "output_type": "stream",
     "text": [
      "[[ 1  0  0]\n",
      " [ 1  0  0]\n",
      " [ 1  0  0]\n",
      " [ 1  0  0]\n",
      " [ 1  0  0]\n",
      " [16  9  0]\n",
      " [ 1  0  0]\n",
      " [ 1  0  0]\n",
      " [ 1  0  0]\n",
      " [ 1  0  0]\n",
      " [ 1  0  0]\n",
      " [ 1  0  0]\n",
      " [ 1  0  0]\n",
      " [ 1  0  0]\n",
      " [ 1  0  0]\n",
      " [ 1  0  0]\n",
      " [16  9  0]\n",
      " [ 1  0  0]\n",
      " [ 1  0  0]\n",
      " [ 1  0  0]\n",
      " [ 1  0  0]\n",
      " [ 1  0  0]]\n"
     ]
    }
   ],
   "source": [
    "temp_env.reset()\n",
    "obs_data = temp_env.step(2)\n",
    "\n",
    "print(obs_data[0][5])"
   ]
  }
 ],
 "metadata": {
  "kernelspec": {
   "display_name": "Python 3",
   "language": "python",
   "name": "python3"
  },
  "language_info": {
   "codemirror_mode": {
    "name": "ipython",
    "version": 3
   },
   "file_extension": ".py",
   "mimetype": "text/x-python",
   "name": "python",
   "nbconvert_exporter": "python",
   "pygments_lexer": "ipython3",
   "version": "3.12.2"
  }
 },
 "nbformat": 4,
 "nbformat_minor": 2
}
